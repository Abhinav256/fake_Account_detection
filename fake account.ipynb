{
 "cells": [
  {
   "cell_type": "code",
   "execution_count": 37,
   "id": "37a29581-ee82-4b3b-aa73-6a0c5fe6a380",
   "metadata": {},
   "outputs": [],
   "source": [
    "\n",
    "import pandas as pd\n",
    "from sklearn.model_selection import train_test_split\n",
    "from sklearn.ensemble import RandomForestClassifier\n",
    "from sklearn.preprocessing import LabelEncoder\n",
    "import joblib\n"
   ]
  },
  {
   "cell_type": "code",
   "execution_count": 39,
   "id": "74ea8cfb-7aac-42e7-9a0b-45db076afc22",
   "metadata": {},
   "outputs": [],
   "source": [
    "\n",
    "aim_data = pd.read_csv('social_media_aim.csv')\n",
    "train_data = pd.read_csv('social_media_train.csv')\n",
    "\n",
    "train_data = train_data.drop(columns=['Unnamed: 0'], errors='ignore')\n",
    "\n",
    "X = train_data.drop(columns='fake')\n",
    "y = train_data['fake']\n",
    "\n",
    "label_encoders = {}\n",
    "categorical_cols = ['profile_pic', 'sim_name_username', 'extern_url', 'private']\n",
    "\n",
    "for col in categorical_cols:\n",
    "    le = LabelEncoder()\n",
    "    X[col] = le.fit_transform(X[col])\n",
    "    label_encoders[col] = le\n",
    "\n",
    "X_train, X_test, y_train, y_test = train_test_split(X, y, test_size=0.2, random_state=42)\n"
   ]
  },
  {
   "cell_type": "code",
   "execution_count": 41,
   "id": "3e3f8077-cbdb-4c59-bf33-980816a9acdf",
   "metadata": {},
   "outputs": [],
   "source": [
    "\n",
    "def predict_fake_account(input_data):\n",
    "    input_df = pd.DataFrame(input_data)\n",
    "\n",
    "    loaded_model = joblib.load('fake_account_classifier.pkl')\n",
    "    loaded_label_encoders = joblib.load('label_encoders.pkl')\n",
    "\n",
    "    for col in categorical_cols:\n",
    "        input_df[col] = loaded_label_encoders[col].transform(input_df[col])\n",
    "\n",
    "    feature_columns = ['profile_pic', 'ratio_numlen_username', 'len_fullname', \n",
    "                       'ratio_numlen_fullname', 'sim_name_username', \n",
    "                       'len_desc', 'extern_url', 'private', \n",
    "                       'num_posts', 'num_followers', 'num_following']\n",
    "    \n",
    "    input_df = input_df[feature_columns]\n",
    "\n",
    "    prediction = loaded_model.predict(input_df)\n",
    "    return \"The account is likely fake.\" if prediction[0] == 1 else \"The account is likely real.\"\n"
   ]
  },
  {
   "cell_type": "code",
   "execution_count": 43,
   "id": "c35bc1ad-1707-4ea1-a972-d4b6904ad7e5",
   "metadata": {},
   "outputs": [
    {
     "data": {
      "text/plain": [
       "['label_encoders.pkl']"
      ]
     },
     "execution_count": 43,
     "metadata": {},
     "output_type": "execute_result"
    }
   ],
   "source": [
    "\n",
    "model = RandomForestClassifier()\n",
    "model.fit(X_train, y_train)\n",
    "\n",
    "joblib.dump(model, 'fake_account_classifier.pkl')\n",
    "joblib.dump(label_encoders, 'label_encoders.pkl')\n"
   ]
  },
  {
   "cell_type": "code",
   "execution_count": null,
   "id": "f9b8f578-5cb2-40b4-b5d3-8a0992f8e2af",
   "metadata": {},
   "outputs": [],
   "source": []
  },
  {
   "cell_type": "code",
   "execution_count": null,
   "id": "cb43a83f-1be6-4060-bb11-0dde9a90a556",
   "metadata": {},
   "outputs": [],
   "source": []
  }
 ],
 "metadata": {
  "kernelspec": {
   "display_name": "Python 3 (ipykernel)",
   "language": "python",
   "name": "python3"
  },
  "language_info": {
   "codemirror_mode": {
    "name": "ipython",
    "version": 3
   },
   "file_extension": ".py",
   "mimetype": "text/x-python",
   "name": "python",
   "nbconvert_exporter": "python",
   "pygments_lexer": "ipython3",
   "version": "3.11.5"
  }
 },
 "nbformat": 4,
 "nbformat_minor": 5
}
